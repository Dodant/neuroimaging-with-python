{
 "cells": [
  {
   "cell_type": "code",
   "execution_count": 38,
   "metadata": {},
   "outputs": [],
   "source": [
    "import SimpleITK as sitk\n",
    "import numpy as np\n",
    "import os\n",
    "\n",
    "%matplotlib inline\n",
    "import matplotlib.pyplot as plt\n",
    "\n",
    "from ipywidgets import interact, fixed\n",
    "from IPython.display import clear_output"
   ]
  },
  {
   "cell_type": "code",
   "execution_count": 47,
   "metadata": {},
   "outputs": [],
   "source": [
    "def display_images(fixed_image_z, moving_image_z, fixed_npa, moving_npa):\n",
    "    # Create a figure with two subplots and the specified size.\n",
    "    plt.subplots(1,2,figsize=(10,8))\n",
    "    \n",
    "    # Draw the fixed image in the first subplot.\n",
    "    plt.subplot(1,2,1)\n",
    "    plt.imshow(fixed_npa[fixed_image_z,:,:],cmap=plt.cm.Greys_r);\n",
    "    plt.title('fixed image')\n",
    "    plt.axis('off')\n",
    "    \n",
    "    # Draw the moving image in the second subplot.\n",
    "    plt.subplot(1,2,2)\n",
    "    plt.imshow(moving_npa[moving_image_z,:,:],cmap=plt.cm.Greys_r);\n",
    "    plt.title('moving image')\n",
    "    plt.axis('off')\n",
    "    \n",
    "    plt.show()\n",
    "\n",
    "# Callback invoked by the IPython interact method for scrolling and modifying the alpha blending\n",
    "# of an image stack of two images that occupy the same physical space. \n",
    "def display_images_with_alpha(image_z, alpha, fixed, moving):\n",
    "    img = (1.0 - alpha)*fixed[:,:,image_z] + alpha*moving[:,:,image_z] \n",
    "    plt.imshow(sitk.GetArrayViewFromImage(img),cmap=plt.cm.Greys_r);\n",
    "    plt.axis('off')\n",
    "    plt.show()\n",
    "    \n",
    "# Callback invoked when the StartEvent happens, sets up our new data.\n",
    "def start_plot():\n",
    "    global metric_values, multires_iterations\n",
    "    metric_values = []\n",
    "    multires_iterations = []\n",
    "\n",
    "# Callback invoked when the EndEvent happens, do cleanup of data and figure.\n",
    "def end_plot():\n",
    "    global metric_values, multires_iterations\n",
    "    del metric_values\n",
    "    del multires_iterations\n",
    "    # Close figure, we don't want to get a duplicate of the plot latter on.\n",
    "    plt.close()\n",
    "\n",
    "# Callback invoked when the IterationEvent happens, update our data and display new figure.\n",
    "def plot_values(registration_method):\n",
    "    global metric_values, multires_iterations\n",
    "    \n",
    "    metric_values.append(registration_method.GetMetricValue())                                       \n",
    "    # Clear the output area (wait=True, to reduce flickering), and plot current data\n",
    "    clear_output(wait=True)\n",
    "    # Plot the similarity metric values\n",
    "    plt.plot(metric_values, 'r')\n",
    "    plt.plot(multires_iterations, [metric_values[index] for index in multires_iterations], 'b*')\n",
    "    plt.xlabel('Iteration Number', fontsize=12)\n",
    "    plt.ylabel('Metric Value', fontsize=12)\n",
    "    plt.show()\n",
    "    \n",
    "# Callback invoked when the sitkMultiResolutionIterationEvent happens, update the index into the \n",
    "# metric_values list. \n",
    "def update_multires_iterations():\n",
    "    global metric_values, multires_iterations\n",
    "    multires_iterations.append(len(metric_values))"
   ]
  },
  {
   "cell_type": "code",
   "execution_count": null,
   "metadata": {},
   "outputs": [],
   "source": [
    "#input file\n",
    "FIXED_IMAGE = \"SAMPLE/BRAIN_ATLAS.nii\"\n",
    "MOVING_IMAGE = \"SAMPLE/MOVING_IMAGE.nii\"\n",
    "\n",
    "#output file\n",
    "MOVED_IMAGE = \"SAMPLE/OUTPUT_IMAGE.nii\"\n",
    "TRANSFORM = 'SAMPLE/OUTPUT_TRANSFORMATION.tfm'"
   ]
  },
  {
   "cell_type": "code",
   "execution_count": 48,
   "metadata": {},
   "outputs": [
    {
     "data": {
      "application/vnd.jupyter.widget-view+json": {
       "model_id": "a8ff2a6553784c71bb4bfb6c5e804b25",
       "version_major": 2,
       "version_minor": 0
      },
      "text/plain": [
       "interactive(children=(IntSlider(value=94, description='fixed_image_z', max=188), IntSlider(value=23, descripti…"
      ]
     },
     "metadata": {},
     "output_type": "display_data"
    },
    {
     "data": {
      "text/plain": [
       "<function __main__.display_images(fixed_image_z, moving_image_z, fixed_npa, moving_npa)>"
      ]
     },
     "execution_count": 48,
     "metadata": {},
     "output_type": "execute_result"
    }
   ],
   "source": [
    "fixed_image = sitk.ReadImage(FIXED_IMAGE, sitk.sitkFloat32)\n",
    "moving_image = sitk.ReadImage(MOVING_IMAGE, sitk.sitkFloat32)\n",
    "\n",
    "interact(display_images, \n",
    "         fixed_image_z=(0,fixed_image.GetSize()[2]-1), \n",
    "         moving_image_z=(0,moving_image.GetSize()[2]-1), \n",
    "         fixed_npa=fixed(sitk.GetArrayViewFromImage(fixed_image)), \n",
    "         moving_npa=fixed(sitk.GetArrayViewFromImage(moving_image)))"
   ]
  },
  {
   "cell_type": "code",
   "execution_count": 49,
   "metadata": {},
   "outputs": [
    {
     "data": {
      "application/vnd.jupyter.widget-view+json": {
       "model_id": "3852ce5ffb3047959a2430bfd181c0bc",
       "version_major": 2,
       "version_minor": 0
      },
      "text/plain": [
       "interactive(children=(IntSlider(value=94, description='image_z', max=188), FloatSlider(value=0.5, description=…"
      ]
     },
     "metadata": {},
     "output_type": "display_data"
    },
    {
     "data": {
      "text/plain": [
       "<function __main__.display_images_with_alpha(image_z, alpha, fixed, moving)>"
      ]
     },
     "execution_count": 49,
     "metadata": {},
     "output_type": "execute_result"
    }
   ],
   "source": [
    "initial_transform = sitk.CenteredTransformInitializer(fixed_image, \n",
    "                                                      moving_image, \n",
    "                                                      sitk.Euler3DTransform(), \n",
    "                                                      sitk.CenteredTransformInitializerFilter.GEOMETRY)\n",
    "\n",
    "moving_resampled = sitk.Resample(moving_image, fixed_image, initial_transform, sitk.sitkLinear, 0.0, moving_image.GetPixelID())\n",
    "\n",
    "interact(display_images_with_alpha, \n",
    "         image_z=(0,fixed_image.GetSize()[2]-1), \n",
    "         alpha=(0.0,1.0,0.05), \n",
    "         fixed=fixed(fixed_image), \n",
    "         moving=fixed(moving_resampled))"
   ]
  },
  {
   "cell_type": "code",
   "execution_count": 50,
   "metadata": {},
   "outputs": [
    {
     "data": {
      "image/png": "[encoded data removed]",
      "text/plain": [
       "<Figure size 432x288 with 1 Axes>"
      ]
     },
     "metadata": {
      "needs_background": "light"
     },
     "output_type": "display_data"
    }
   ],
   "source": [
    "registration_method = sitk.ImageRegistrationMethod()\n",
    "\n",
    "# Similarity metric settings.\n",
    "registration_method.SetMetricAsMattesMutualInformation(numberOfHistogramBins=50)\n",
    "registration_method.SetMetricSamplingStrategy(registration_method.RANDOM)\n",
    "registration_method.SetMetricSamplingPercentage(0.01)\n",
    "\n",
    "registration_method.SetInterpolator(sitk.sitkLinear)\n",
    "\n",
    "# Optimizer settings.\n",
    "registration_method.SetOptimizerAsGradientDescent(learningRate=0.1, numberOfIterations=100, convergenceMinimumValue=1e-6, convergenceWindowSize=10)\n",
    "registration_method.SetOptimizerScalesFromPhysicalShift()\n",
    "\n",
    "# Setup for the multi-resolution framework.            \n",
    "registration_method.SetShrinkFactorsPerLevel(shrinkFactors=[4,2,1])\n",
    "registration_method.SetSmoothingSigmasPerLevel(smoothingSigmas=[2,1,0])\n",
    "registration_method.SmoothingSigmasAreSpecifiedInPhysicalUnitsOn()\n",
    "\n",
    "# Don't optimize in-place, we would possibly like to run this cell multiple times.\n",
    "registration_method.SetInitialTransform(initial_transform, inPlace=False)\n",
    "\n",
    "# Connect all of the observers so that we can perform plotting during registration.\n",
    "registration_method.AddCommand(sitk.sitkStartEvent, start_plot)\n",
    "registration_method.AddCommand(sitk.sitkEndEvent, end_plot)\n",
    "registration_method.AddCommand(sitk.sitkMultiResolutionIterationEvent, update_multires_iterations) \n",
    "registration_method.AddCommand(sitk.sitkIterationEvent, lambda: plot_values(registration_method))\n",
    "\n",
    "final_transform = registration_method.Execute(sitk.Cast(fixed_image, sitk.sitkFloat32), \n",
    "                                               sitk.Cast(moving_image, sitk.sitkFloat32))"
   ]
  },
  {
   "cell_type": "code",
   "execution_count": 51,
   "metadata": {},
   "outputs": [
    {
     "name": "stdout",
     "output_type": "stream",
     "text": [
      "Final metric value: -0.6322593157099674\n",
      "Optimizer's stopping condition, GradientDescentOptimizerv4Template: Convergence checker passed at iteration 41.\n"
     ]
    }
   ],
   "source": [
    "print(f'Final metric value: {registration_method.GetMetricValue()}')\n",
    "print(f'Optimizer\\'s stopping condition, {registration_method.GetOptimizerStopConditionDescription()}')"
   ]
  },
  {
   "cell_type": "code",
   "execution_count": 52,
   "metadata": {},
   "outputs": [
    {
     "data": {
      "application/vnd.jupyter.widget-view+json": {
       "model_id": "d7c3d5ed0a344d50b1cd0b0f18c95f51",
       "version_major": 2,
       "version_minor": 0
      },
      "text/plain": [
       "interactive(children=(IntSlider(value=94, description='image_z', max=188), FloatSlider(value=0.5, description=…"
      ]
     },
     "metadata": {},
     "output_type": "display_data"
    },
    {
     "data": {
      "text/plain": [
       "<function __main__.display_images_with_alpha(image_z, alpha, fixed, moving)>"
      ]
     },
     "execution_count": 52,
     "metadata": {},
     "output_type": "execute_result"
    }
   ],
   "source": [
    "moving_resampled = sitk.Resample(moving_image, fixed_image, final_transform, sitk.sitkLinear, 0.0, moving_image.GetPixelID())\n",
    "\n",
    "interact(display_images_with_alpha, \n",
    "         image_z=(0,fixed_image.GetSize()[2]-1), \n",
    "         alpha=(0.0,1.0,0.05), \n",
    "         fixed=fixed(fixed_image), moving=fixed(moving_resampled))"
   ]
  },
  {
   "cell_type": "code",
   "execution_count": 53,
   "metadata": {},
   "outputs": [],
   "source": [
    "sitk.WriteImage(moving_resampled, MOVED_IMAGE)\n",
    "sitk.WriteTransform(final_transform, TRANSFORM)"
   ]
  }
 ],
 "metadata": {
  "kernelspec": {
   "display_name": "Python 3",
   "language": "python",
   "name": "python3"
  },
  "language_info": {
   "codemirror_mode": {
    "name": "ipython",
    "version": 3
   },
   "file_extension": ".py",
   "mimetype": "text/x-python",
   "name": "python",
   "nbconvert_exporter": "python",
   "pygments_lexer": "ipython3",
   "version": "3.8.5"
  }
 },
 "nbformat": 4,
 "nbformat_minor": 5
}
